{
  "cells": [
    {
      "cell_type": "markdown",
      "metadata": {
        "collapsed": true,
        "id": "IUCwd_WFYaer"
      },
      "source": [
        "# Data Science Tools and Ecosystem"
      ]
    },
    {
      "cell_type": "markdown",
      "metadata": {
        "id": "AIbMi53GYaet"
      },
      "source": [
        "In this notebook, Data Science Tools and Ecosystem are summarized.\n"
      ]
    },
    {
      "cell_type": "markdown",
      "metadata": {
        "id": "r3iLFygIYaet"
      },
      "source": [
        "**Some of the popular languages that Data Scientists use are:**\n",
        "1. python\n",
        "2. R\n",
        "3. SQL"
      ]
    },
    {
      "cell_type": "markdown",
      "metadata": {
        "id": "dkFthSA6Yaeu"
      },
      "source": [
        "**Some of the commonly used libraries used by Data Scientists include:**\n",
        "\n",
        " 1. TensorFlow.\n",
        " 2. SciPy.\n",
        " 3. NumPy.\n",
        " 4. Pandas.\n",
        " 5. Pytorch"
      ]
    },
    {
      "cell_type": "markdown",
      "metadata": {
        "id": "IF8PdUcvYaeu"
      },
      "source": [
        "**Data Science Tools**\n",
        "|Data Science Tools|\n",
        "|-|\n",
        "|Jupyter Notebook|\n",
        "|RStudio|\n",
        "|Apache Spark|\n"
      ]
    },
    {
      "cell_type": "markdown",
      "metadata": {
        "id": "Il7U3BvQYaeu"
      },
      "source": [
        "### Below are a few examples of evaluating arithmetic expressions in Python.\n"
      ]
    },
    {
      "cell_type": "code",
      "execution_count": 1,
      "metadata": {
        "colab": {
          "base_uri": "https://localhost:8080/"
        },
        "id": "LYPapS-kYaeu",
        "outputId": "1198d85f-68c2-4916-f50d-16a07d5f8958"
      },
      "outputs": [
        {
          "output_type": "stream",
          "name": "stdout",
          "text": [
            "17\n",
            "True\n"
          ]
        }
      ],
      "source": [
        "# This a simple arithmetic expression to mutiply then add integers\n",
        "eval = (3*4)+5\n",
        "print(eval)\n",
        "print(eval==17)"
      ]
    },
    {
      "cell_type": "code",
      "execution_count": 2,
      "metadata": {
        "colab": {
          "base_uri": "https://localhost:8080/"
        },
        "id": "cCUWEEHZYaew",
        "outputId": "5fef857b-c578-4b9c-e619-9a961791e21f"
      },
      "outputs": [
        {
          "output_type": "stream",
          "name": "stdout",
          "text": [
            "3.3333333333333335\n"
          ]
        }
      ],
      "source": [
        "# This will convert 200 minutes to hours by diving by 60\n",
        "print(200 / 60)"
      ]
    },
    {
      "cell_type": "markdown",
      "metadata": {
        "id": "FYiW4wbEYaew"
      },
      "source": [
        "**Objectives:**\n",
        "List popular languages for Data Science.\n",
        "- Python\n",
        "- SQL\n",
        "- R"
      ]
    },
    {
      "cell_type": "markdown",
      "metadata": {
        "id": "iRwoLFxEYaew"
      },
      "source": [
        "## Author"
      ]
    },
    {
      "cell_type": "markdown",
      "metadata": {
        "id": "t_ON_aZ0Yaew"
      },
      "source": [
        "Name : Ayodej, Ajayi"
      ]
    }
  ],
  "metadata": {
    "kernelspec": {
      "display_name": "Python 3.10",
      "language": "python",
      "name": "python3"
    },
    "language_info": {
      "codemirror_mode": {
        "name": "ipython",
        "version": 3
      },
      "file_extension": ".py",
      "mimetype": "text/x-python",
      "name": "python",
      "nbconvert_exporter": "python",
      "pygments_lexer": "ipython3",
      "version": "3.10.6"
    },
    "colab": {
      "provenance": []
    }
  },
  "nbformat": 4,
  "nbformat_minor": 0
}