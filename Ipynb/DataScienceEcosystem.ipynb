{
    "cells": [
        {
            "cell_type": "markdown",
            "metadata": {
                "collapsed": true
            },
            "source": "# Data Science Tools and Ecosystem"
        },
        {
            "cell_type": "markdown",
            "metadata": {},
            "source": "In this notebook, Data Science Tools and Ecosystem are summarized.\n"
        },
        {
            "cell_type": "markdown",
            "metadata": {},
            "source": "**Some of the popular languages that Data Scientists use are:**\n1. python\n2. SQL\n3. R"
        },
        {
            "cell_type": "markdown",
            "metadata": {},
            "source": "**Some of the commonly used libraries used by Data Scientists include:**\n \n 1. TensorFlow. \n 2. SciPy. \n 3. NumPy. \n 4. Pandas. \n 5. Pytorch"
        },
        {
            "cell_type": "markdown",
            "metadata": {},
            "source": "**Data Science Tools**\n|Data Science Tools|\n|-|\n|Jupyter Notebook|\n|RStudio|\n|Apache Spark|\n"
        },
        {
            "cell_type": "markdown",
            "metadata": {},
            "source": "### Below are a few examples of evaluating arithmetic expressions in Python.\n"
        },
        {
            "cell_type": "code",
            "execution_count": 7,
            "metadata": {},
            "outputs": [
                {
                    "name": "stdout",
                    "output_type": "stream",
                    "text": "17\nTrue\n"
                }
            ],
            "source": "# This a simple arithmetic expression to mutiply then add integers\neval = (3*4)+5\nprint(eval)\nprint(eval==17)"
        },
        {
            "cell_type": "code",
            "execution_count": 8,
            "metadata": {},
            "outputs": [
                {
                    "name": "stdout",
                    "output_type": "stream",
                    "text": "33.333333333333336\n"
                }
            ],
            "source": "# This will convert 200 minutes to hours by diving by 60\nprint(200 / 6)"
        },
        {
            "cell_type": "markdown",
            "metadata": {},
            "source": "**Objectives:**\nList popular languages for Data Science.\n- Python \n- SQL\n- R"
        },
        {
            "cell_type": "markdown",
            "metadata": {},
            "source": "## Author "
        },
        {
            "cell_type": "markdown",
            "metadata": {},
            "source": "name : Yu-An, Chen"
        },
        {
            "cell_type": "code",
            "execution_count": null,
            "metadata": {},
            "outputs": [],
            "source": ""
        }
    ],
    "metadata": {
        "kernelspec": {
            "display_name": "Python 3.10",
            "language": "python",
            "name": "python3"
        },
        "language_info": {
            "codemirror_mode": {
                "name": "ipython",
                "version": 3
            },
            "file_extension": ".py",
            "mimetype": "text/x-python",
            "name": "python",
            "nbconvert_exporter": "python",
            "pygments_lexer": "ipython3",
            "version": "3.10.6"
        }
    },
    "nbformat": 4,
    "nbformat_minor": 1
}